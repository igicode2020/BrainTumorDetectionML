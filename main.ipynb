{
 "cells": [
  {
   "cell_type": "markdown",
   "source": [
    "<h1>Brain Tumor Detection via CNN ML Networks</h1>"
   ],
   "metadata": {
    "collapsed": false
   },
   "id": "e9e96c3367917a5c"
  },
  {
   "cell_type": "markdown",
   "source": [
    "Add and import neccesary libraries"
   ],
   "metadata": {
    "collapsed": false
   },
   "id": "34232d0e4b0fded"
  },
  {
   "cell_type": "code",
   "outputs": [],
   "source": [
    "import os\n",
    "\n",
    "import keras\n",
    "import numpy as np\n",
    "import pandas as pd\n",
    "import seaborn as sns\n",
    "import matplotlib.pyplot as plt\n",
    "from keras import Sequential\n",
    "import tensorflow as tf\n",
    "from tensorflow.keras.preprocessing.image import ImageDataGenerator\n",
    "from keras import Input\n",
    "from tensorflow.keras.layers import Conv2D, MaxPooling2D, Flatten, Dense, Dropout"
   ],
   "metadata": {
    "collapsed": true,
    "ExecuteTime": {
     "end_time": "2024-07-09T06:08:58.922672Z",
     "start_time": "2024-07-09T06:08:58.783025Z"
    }
   },
   "id": "initial_id",
   "execution_count": 26
  },
  {
   "cell_type": "markdown",
   "source": [
    "Loading the datasets (they are already split into Training and Testing datasets). The dataset is cited below but was downloaded off of Kaggle.com"
   ],
   "metadata": {
    "collapsed": false
   },
   "id": "30487ec632739d57"
  },
  {
   "cell_type": "code",
   "outputs": [],
   "source": [
    "# Set the path to the dataset\n",
    "dataset_path = \"/kaggle/input/brain-tumor-mri-dataset\"\n",
    "\n",
    "# Define the training and testing directories\n",
    "train_dir = os.path.join(dataset_path, \"/users/alexanderokenczyc/documents/github/BrainTumorDetectionML/Data/Training\")\n",
    "test_dir = os.path.join(dataset_path, \"/users/alexanderokenczyc/documents/github/BrainTumorDetectionML/Data/Testing\")\n",
    "\n",
    "# Define the categories\n",
    "categories = [\"glioma\", \"meningioma\", \"notumor\", \"pituitary\"]"
   ],
   "metadata": {
    "collapsed": false
   },
   "id": "5a084e95957b34c9",
   "execution_count": null
  },
  {
   "cell_type": "markdown",
   "source": [
    "<h3>Data Preprocessing</h3>"
   ],
   "metadata": {
    "collapsed": false
   },
   "id": "5cc0be66d359ce6c"
  },
  {
   "cell_type": "code",
   "outputs": [],
   "source": [
    "# Load and preprocess the dataset\n",
    "train_data = []\n",
    "for category in categories:\n",
    "    folder_path = os.path.join(train_dir, category)\n",
    "    images = os.listdir(folder_path)\n",
    "    count = len(images)\n",
    "    train_data.append(pd.DataFrame({\"Image\": images, \"Category\": [category] * count, \"Count\": [count] * count}))\n",
    "\n",
    "train_df = pd.concat(train_data, ignore_index=True)\n"
   ],
   "metadata": {
    "collapsed": false
   },
   "id": "b15ab334a307cc32",
   "execution_count": null
  },
  {
   "cell_type": "markdown",
   "source": [
    "<h2>Data Visualization with Bar Graph</h2>"
   ],
   "metadata": {
    "collapsed": false
   },
   "id": "143631dc5acfddb2"
  },
  {
   "cell_type": "code",
   "outputs": [],
   "source": [
    "# Visualize the distribution of tumor types in the training dataset\n",
    "plt.figure(figsize=(8, 6))\n",
    "sns.barplot(data=train_df, x=\"Category\", y=\"Count\")\n",
    "plt.title(\"Distribution of Tumor Types\")\n",
    "plt.xlabel(\"Tumor Type\")\n",
    "plt.ylabel(\"Count\")\n",
    "plt.show()"
   ],
   "metadata": {
    "collapsed": false
   },
   "id": "dc6de078546732a5",
   "execution_count": null
  },
  {
   "cell_type": "markdown",
   "source": [
    "<h2>Actual Example Images of each type of Tumor</h2>"
   ],
   "metadata": {
    "collapsed": false
   },
   "id": "db91041fa75ed67b"
  },
  {
   "cell_type": "code",
   "outputs": [],
   "source": [
    "# Visualize sample images for each tumor type\n",
    "plt.figure(figsize=(12, 8))\n",
    "for i, category in enumerate(categories):\n",
    "    folder_path = os.path.join(train_dir, category)\n",
    "    image_path = os.path.join(folder_path, os.listdir(folder_path)[0])\n",
    "    img = plt.imread(image_path)\n",
    "    plt.subplot(2, 2, i+1)\n",
    "    plt.imshow(img)\n",
    "    plt.title(category)\n",
    "    plt.axis(\"off\")\n",
    "plt.tight_layout()\n",
    "plt.show()"
   ],
   "metadata": {
    "collapsed": false
   },
   "id": "2d49e3b26d76c7f2",
   "execution_count": null
  },
  {
   "cell_type": "markdown",
   "source": [
    "<h3>Image Preprocessing</h3>"
   ],
   "metadata": {
    "collapsed": false
   },
   "id": "5316b075ccd1cd96"
  },
  {
   "cell_type": "markdown",
   "source": [
    "Sets up size of the images as well as the total batch size for each epoch."
   ],
   "metadata": {
    "collapsed": false
   },
   "id": "d9ff61db820b705c"
  },
  {
   "cell_type": "code",
   "outputs": [],
   "source": [
    "# Set the image size\n",
    "image_size = (150, 150)\n",
    "\n",
    "# Set the batch size for training\n",
    "batch_size = 16\n",
    "\n",
    "# Set the number of epochs for training\n",
    "epochs = 10"
   ],
   "metadata": {
    "collapsed": false,
    "is_executing": true
   },
   "id": "7848f7f1e199393b",
   "execution_count": null
  },
  {
   "cell_type": "markdown",
   "source": [
    "<h2>Data Augmentation/Preprocessing Continued</h2>"
   ],
   "metadata": {
    "collapsed": false
   },
   "id": "fb6b0a5842b3b2b1"
  },
  {
   "cell_type": "code",
   "outputs": [],
   "source": [
    "# Data augmentation and preprocessing\n",
    "train_datagen = ImageDataGenerator(\n",
    "    rescale=1./255,\n",
    "    rotation_range=20,\n",
    "    width_shift_range=0.1,\n",
    "    height_shift_range=0.1,\n",
    "    shear_range=0.1,\n",
    "    zoom_range=0.1,\n",
    "    horizontal_flip=True,\n",
    "    vertical_flip=True,\n",
    "    fill_mode=\"nearest\"\n",
    ")\n",
    "\n",
    "train_generator = train_datagen.flow_from_directory(\n",
    "    train_dir,\n",
    "    target_size=image_size,\n",
    "    batch_size=batch_size,\n",
    "    class_mode=\"categorical\"\n",
    ")\n",
    "\n",
    "test_datagen = ImageDataGenerator(rescale=1./255)\n",
    "\n",
    "test_generator = test_datagen.flow_from_directory(\n",
    "    test_dir,\n",
    "    target_size=image_size,\n",
    "    batch_size=batch_size,\n",
    "    class_mode=\"categorical\",\n",
    "    shuffle=False\n",
    ")"
   ],
   "metadata": {
    "collapsed": false
   },
   "id": "69b1278705587ac",
   "execution_count": null
  },
  {
   "cell_type": "code",
   "outputs": [],
   "source": [
    "# Define the model architecture\n",
    "\n",
    "\n",
    "model = keras.Sequential()\n",
    "model.add(keras.Input(shape=(image_size[0], image_size[1], 3, )))\n",
    "model.add(keras.layers.Conv2D(32, (3, 3), activation=\"relu\"))\n",
    "model.add(MaxPooling2D((2, 2)))\n",
    "model.add(Conv2D(64, (3, 3), activation=\"relu\"))\n",
    "model.add(MaxPooling2D((2, 2)))\n",
    "model.add(Conv2D(128, (3, 3), activation=\"relu\"))\n",
    "model.add(MaxPooling2D((2, 2)))\n",
    "model.add(Conv2D(128, (3, 3), activation=\"relu\"))\n",
    "model.add(MaxPooling2D((2, 2)))\n",
    "model.add(Flatten())\n",
    "model.add(Dense(512, activation=\"relu\"))\n",
    "model.add(Dropout(0.5))\n",
    "model.add(Dense(len(categories), activation=\"softmax\"))\n",
    "\n",
    "# Compile the model\n",
    "model.compile(optimizer=\"adam\", loss=\"categorical_crossentropy\", metrics=[\"accuracy\"])"
   ],
   "metadata": {
    "collapsed": false,
    "ExecuteTime": {
     "end_time": "2024-07-09T06:13:58.563707Z",
     "start_time": "2024-07-09T06:13:57.658913Z"
    }
   },
   "id": "abf09bf740956eb0",
   "execution_count": 40
  },
  {
   "cell_type": "code",
   "outputs": [
    {
     "name": "stdout",
     "output_type": "stream",
     "text": [
      "Epoch 1/50\n"
     ]
    }
   ],
   "source": [
    "history = model.fit(\n",
    "    train_generator,\n",
    "    steps_per_epoch=train_generator.samples // batch_size,\n",
    "    epochs=epochs,\n",
    "    validation_data=test_generator,\n",
    "    validation_steps=test_generator.samples // batch_size\n",
    ")"
   ],
   "metadata": {
    "collapsed": false,
    "is_executing": true,
    "ExecuteTime": {
     "start_time": "2024-07-09T06:14:14.329064Z"
    }
   },
   "id": "ca0e77e269c250d7"
  },
  {
   "cell_type": "code",
   "outputs": [],
   "source": [],
   "metadata": {
    "collapsed": false
   },
   "id": "1bc3117b29de1620"
  }
 ],
 "metadata": {
  "kernelspec": {
   "display_name": "Python 3",
   "language": "python",
   "name": "python3"
  },
  "language_info": {
   "codemirror_mode": {
    "name": "ipython",
    "version": 2
   },
   "file_extension": ".py",
   "mimetype": "text/x-python",
   "name": "python",
   "nbconvert_exporter": "python",
   "pygments_lexer": "ipython2",
   "version": "2.7.6"
  }
 },
 "nbformat": 4,
 "nbformat_minor": 5
}
